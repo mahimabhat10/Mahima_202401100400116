{
  "nbformat": 4,
  "nbformat_minor": 0,
  "metadata": {
    "colab": {
      "provenance": []
    },
    "kernelspec": {
      "name": "python3",
      "display_name": "Python 3"
    },
    "language_info": {
      "name": "python"
    }
  },
  "cells": [
    {
      "cell_type": "code",
      "execution_count": 1,
      "metadata": {
        "colab": {
          "base_uri": "https://localhost:8080/"
        },
        "id": "qe1_U6xiPaRW",
        "outputId": "aa96097d-486a-4773-e64e-b77ededea236"
      },
      "outputs": [
        {
          "output_type": "stream",
          "name": "stdout",
          "text": [
            "Original Sudoku Board:\n",
            "5 3 . . 7 . . . .\n",
            "6 . . 1 9 5 . . .\n",
            ". 9 8 . . . . 6 .\n",
            "8 . . . 6 . . . 3\n",
            "4 . . 8 . 3 . . 1\n",
            "7 . . . 2 . . . 6\n",
            ". 6 . . . . 2 8 .\n",
            ". . . 4 1 9 . . 5\n",
            ". . . . 8 . . 7 9\n",
            "\n",
            "Solved Sudoku Board:\n",
            "5 3 4 6 7 8 9 1 2\n",
            "6 7 2 1 9 5 3 4 8\n",
            "1 9 8 3 4 2 5 6 7\n",
            "8 5 9 7 6 1 4 2 3\n",
            "4 2 6 8 5 3 7 9 1\n",
            "7 1 3 9 2 4 8 5 6\n",
            "9 6 1 5 3 7 2 8 4\n",
            "2 8 7 4 1 9 6 3 5\n",
            "3 4 5 2 8 6 1 7 9\n"
          ]
        }
      ],
      "source": [
        "def is_valid(board, row, col, num):\n",
        "    # Check if the number is not in the current row and column\n",
        "    for i in range(9):\n",
        "        if board[row][i] == num or board[i][col] == num:\n",
        "            return False\n",
        "\n",
        "    # Check if the number is not in the 3x3 box\n",
        "    box_start_row, box_start_col = 3 * (row // 3), 3 * (col // 3)\n",
        "    for i in range(3):\n",
        "        for j in range(3):\n",
        "            if board[box_start_row + i][box_start_col + j] == num:\n",
        "                return False\n",
        "\n",
        "    return True\n",
        "\n",
        "\n",
        "def solve_sudoku(board):\n",
        "    for row in range(9):\n",
        "        for col in range(9):\n",
        "            if board[row][col] == 0:  # Empty cell found\n",
        "                for num in range(1, 10):  # Try numbers 1 to 9\n",
        "                    if is_valid(board, row, col, num):\n",
        "                        board[row][col] = num\n",
        "\n",
        "                        if solve_sudoku(board):  # Recursively attempt to solve\n",
        "                            return True\n",
        "\n",
        "                        # Backtrack if the current number doesn't work\n",
        "                        board[row][col] = 0\n",
        "                return False  # Trigger backtracking\n",
        "    return True\n",
        "\n",
        "\n",
        "def print_sudoku(board):\n",
        "    for row in board:\n",
        "        print(\" \".join(str(num) if num != 0 else '.' for num in row))\n",
        "\n",
        "\n",
        "# Sample Sudoku Puzzle (0 represents empty spaces)\n",
        "sudoku_board = [\n",
        "    [5, 3, 0, 0, 7, 0, 0, 0, 0],\n",
        "    [6, 0, 0, 1, 9, 5, 0, 0, 0],\n",
        "    [0, 9, 8, 0, 0, 0, 0, 6, 0],\n",
        "    [8, 0, 0, 0, 6, 0, 0, 0, 3],\n",
        "    [4, 0, 0, 8, 0, 3, 0, 0, 1],\n",
        "    [7, 0, 0, 0, 2, 0, 0, 0, 6],\n",
        "    [0, 6, 0, 0, 0, 0, 2, 8, 0],\n",
        "    [0, 0, 0, 4, 1, 9, 0, 0, 5],\n",
        "    [0, 0, 0, 0, 8, 0, 0, 7, 9]\n",
        "]\n",
        "\n",
        "print(\"Original Sudoku Board:\")\n",
        "print_sudoku(sudoku_board)\n",
        "\n",
        "if solve_sudoku(sudoku_board):\n",
        "    print(\"\\nSolved Sudoku Board:\")\n",
        "    print_sudoku(sudoku_board)\n",
        "else:\n",
        "    print(\"\\nNo solution exists for the given Sudoku board.\")\n"
      ]
    }
  ]
}